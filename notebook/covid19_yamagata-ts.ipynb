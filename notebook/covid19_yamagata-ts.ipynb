{
 "cells": [
  {
   "cell_type": "code",
   "execution_count": 1,
   "metadata": {
    "ExecuteTime": {
     "end_time": "2021-07-27T04:51:20.841985Z",
     "start_time": "2021-07-27T04:51:20.213072Z"
    }
   },
   "outputs": [],
   "source": [
    "import traceback\n",
    "import ujson\n",
    "import time\n",
    "import pendulum\n",
    "import pandas as pd\n",
    "import numpy as np\n",
    "import re\n",
    "from unicodedata import normalize\n",
    "from itertools import product\n",
    "import time\n",
    "import pickle\n",
    "import matplotlib.pyplot as plt\n",
    "import math\n",
    "\n",
    "pd.set_option(\"display.max_columns\", 100)\n",
    "pd.set_option(\"display.max_colwidth\", 500)\n",
    "pd.set_option('display.width',2000)\n",
    "pd.set_option('display.max_rows', 500)"
   ]
  },
  {
   "cell_type": "markdown",
   "metadata": {
    "ExecuteTime": {
     "end_time": "2021-05-13T02:59:34.903986Z",
     "start_time": "2021-05-13T02:59:34.901845Z"
    }
   },
   "source": [
    "## CSVデータの読み込み"
   ]
  },
  {
   "cell_type": "code",
   "execution_count": 2,
   "metadata": {
    "ExecuteTime": {
     "end_time": "2021-07-27T04:51:21.338084Z",
     "start_time": "2021-07-27T04:51:21.272880Z"
    }
   },
   "outputs": [],
   "source": [
    "column_names = [\n",
    "    'no',  # No\n",
    "    'code',  # 全国地方公共団体コード\n",
    "    'prefecture',  # 都道府県名\n",
    "    'published_at',   # 公表年月日\n",
    "    'infected_at',   # 感染確認年月日\n",
    "    'patients_area',  # 患者居住地\n",
    "    'patients_age',  # 患者年代\n",
    "    'patients_sex',  # 患者性別\n",
    "]\n",
    "\n",
    "df_csv = pd.read_csv(\n",
    "    './master_data/csv/yamagata_patients.csv',\n",
    "    na_values= ['−'], \n",
    "    # dtype={}\n",
    "    names = column_names,  # ヘッダー行が無い場合に使う\n",
    "    skiprows=1\n",
    ")\n",
    "\n",
    "## 使用しないフィールドを削除\n",
    "# del df_csv['no']\n",
    "del df_csv['code']\n",
    "del df_csv['prefecture']\n",
    "#df_csv = df_csv.dropna(how='any')\n",
    "# display(df_csv.loc[\n",
    "#     (df_csv.published_at == '欠番') | \n",
    "#     (df_csv.patients_area.isnull()) | \n",
    "#     (df_csv.patients_age.isnull()) |\n",
    "#     (df_csv.patients_sex.isnull())\n",
    "# ])\n",
    "df_csv = df_csv.dropna(subset=['patients_area', 'patients_age'])\n",
    "\n"
   ]
  },
  {
   "cell_type": "markdown",
   "metadata": {
    "ExecuteTime": {
     "end_time": "2021-05-13T02:59:03.781600Z",
     "start_time": "2021-05-13T02:59:03.770515Z"
    }
   },
   "source": [
    "## 追加のデータ（発表データ）\n"
   ]
  },
  {
   "cell_type": "code",
   "execution_count": 3,
   "metadata": {
    "ExecuteTime": {
     "end_time": "2021-07-27T04:51:23.214122Z",
     "start_time": "2021-07-27T04:51:23.194977Z"
    }
   },
   "outputs": [],
   "source": [
    "# -- 発表日と感染確認日を日付型に変換\n",
    "df_csv['published_at'] = pd.to_datetime(\n",
    "    df_csv['published_at'], \n",
    "    format='%Y/%m/%d', \n",
    "    infer_datetime_format=True\n",
    ")\n",
    "df_csv['infected_at'] = pd.to_datetime(\n",
    "    df_csv['infected_at'], \n",
    "    format='%Y/%m/%d', \n",
    "    infer_datetime_format=True\n",
    ")"
   ]
  },
  {
   "cell_type": "markdown",
   "metadata": {},
   "source": [
    "### 人口データの読み込み"
   ]
  },
  {
   "cell_type": "code",
   "execution_count": 4,
   "metadata": {},
   "outputs": [
    {
     "data": {
      "text/plain": [
       "'庄内の人口: 258125'"
      ]
     },
     "metadata": {},
     "output_type": "display_data"
    },
    {
     "data": {
      "text/plain": [
       "'村山の人口: 524907'"
      ]
     },
     "metadata": {},
     "output_type": "display_data"
    },
    {
     "data": {
      "text/plain": [
       "'置賜の人口: 197885'"
      ]
     },
     "metadata": {},
     "output_type": "display_data"
    },
    {
     "data": {
      "text/plain": [
       "'最上の人口: 68703'"
      ]
     },
     "metadata": {},
     "output_type": "display_data"
    },
    {
     "data": {
      "text/plain": [
       "'山形県の人口: 1049620'"
      ]
     },
     "metadata": {},
     "output_type": "display_data"
    },
    {
     "data": {
      "text/plain": [
       "'鶴岡市の人口:119862'"
      ]
     },
     "metadata": {},
     "output_type": "display_data"
    }
   ],
   "source": [
    "raw_df = pd.read_excel('./master_data/population/r40301.xlsx')\n",
    "df_pop = raw_df.iloc[16:,62:]  # 固定位置でスライス\n",
    "columns = [\n",
    "    '市町村名','総数', '男', '女', '自然動態_出生', '自然動態_死亡', '自然動態_増減', \n",
    "    '社会動態_転入', '社会動態_転出', '社会動態_増減', '総増減', '世帯数', '世帯数_増減',\n",
    "    # 'dummy_1', 'dummy_2'  # 月によってかわる\n",
    "]\n",
    "df_pop.columns = columns\n",
    "# del df_pop['dummy_1']\n",
    "# del df_pop['dummy_2']\n",
    "df_pop = df_pop.dropna(how='all')\n",
    "df_pop['市町村名'] = df_pop['市町村名'].str.replace(' ', '', regex=False)\n",
    "df_pop['人口'] = df_pop['総数'].astype(int)\n",
    "df_pop['pop_per10'] = round(df_pop['人口'] / 100000, 2)\n",
    "\n",
    "# -- エリア設定\n",
    "shonai = ['鶴岡市', '酒田市', '庄内町', '三川町', '遊佐町']\n",
    "df_pop.loc[df_pop['市町村名'].isin(shonai), 'area'] = '庄内'\n",
    "murayama = ['山形市', '寒河江市', '天童市', '東根市', '上山市', '山辺町', '中山町', '尾花沢市', '村山市', '朝日町', '大江町', '河北町', '大石田町', '西川町']\n",
    "df_pop.loc[df_pop['市町村名'].isin(murayama), 'area'] = '村山'    \n",
    "mogami = ['鮭川村', '新庄市', '最上町', '金山町', '真室川町', '戸沢村', '大蔵村', '舟形町']\n",
    "df_pop.loc[df_pop['市町村名'].isin(mogami), 'area'] = '最上'    \n",
    "okitama = ['小国町', '白鷹町', '飯豊町', '長井市', '南陽市', '川西町', '高畠町', '米沢市']\n",
    "df_pop.loc[df_pop['市町村名'].isin(okitama), 'area'] = '置賜'    \n",
    "\n",
    "# -- 市町村のリストに合わせて地方別に集計\n",
    "shonai_population = df_pop.loc[df_pop.area == '庄内']['人口'].sum()\n",
    "murayama_population = df_pop.loc[df_pop.area == '村山']['人口'].sum()\n",
    "mogami_population = df_pop.loc[df_pop.area == '最上']['人口'].sum()\n",
    "okitama_population = df_pop.loc[df_pop.area == '置賜']['人口'].sum()\n",
    "\n",
    "yamagata_population = shonai_population + murayama_population + mogami_population + okitama_population\n",
    "tsuruoka_population = df_pop.loc[df_pop['市町村名'] == '鶴岡市']['人口'].iloc[0]\n",
    "\n",
    "df_pop_ = df_pop[['市町村名', '人口', 'pop_per10']].copy()\n",
    "df_pop_ = df_pop_.reset_index(drop=True)\n",
    "\n",
    "# display(df_pop_)\n",
    "display('庄内の人口: ' + str(shonai_population))\n",
    "display('村山の人口: ' + str(murayama_population))\n",
    "display('置賜の人口: ' + str(okitama_population))\n",
    "display('最上の人口: ' + str(mogami_population))\n",
    "display('山形県の人口: ' + str(yamagata_population))\n",
    "display('鶴岡市の人口:' + str(tsuruoka_population))"
   ]
  },
  {
   "cell_type": "markdown",
   "metadata": {},
   "source": [
    "## 1週間単位の合計 (2022-01-02から)"
   ]
  },
  {
   "cell_type": "code",
   "execution_count": 5,
   "metadata": {},
   "outputs": [],
   "source": [
    "df_range = df_csv.loc[df_csv.infected_at > '2022-01-02'].copy()  # 2022-01-02 is Sunday\n",
    "df_range['day_of_week'] = df_range.published_at.dt.strftime('%a')"
   ]
  },
  {
   "cell_type": "code",
   "execution_count": 6,
   "metadata": {},
   "outputs": [],
   "source": [
    "# -- 移動合計から日曜日だけの数字を抜き出す\n",
    "range_days = 7\n",
    "start_date = pendulum.parse('2022-01-02', tz='Asia/Tokyo')\n",
    "end_date = pendulum.now(tz='Asia/Tokyo')\n",
    "if end_date.strftime('%a') != 'Sun':  # 週の途中は次の日曜日までを対象とする\n",
    "    count = 0\n",
    "    while True:\n",
    "        tg = end_date.add(days=count)\n",
    "        if tg.strftime('%a') == 'Sun':\n",
    "            end_date = tg\n",
    "            break\n",
    "        count += 1\n",
    "        \n",
    "period = pendulum.period(start_date, end_date)\n",
    "\n",
    "ts_yamagata = []  # 山形県\n",
    "ts_tsuruoka = []  # 鶴岡市\n",
    "ts_shonai = []\n",
    "\n",
    "for dt in period.range('days'):  # 月曜から日曜までの合計を計算\n",
    "    past_date = dt.subtract(days=range_days).strftime('%Y-%m-%d')\n",
    "    tagt_date = dt.strftime('%Y-%m-%d')\n",
    "    # print(past_date, tagt_date)\n",
    "    if dt.strftime('%a') != 'Sun':\n",
    "        continue  # 日曜日以外はスキップ\n",
    "    df_recent = df_range.loc[\n",
    "        (df_csv.published_at>past_date) & \n",
    "        (df_csv.published_at<=tagt_date)\n",
    "    ].copy()\n",
    "    sr_sum = df_recent.patients_area.value_counts()  # 市町村ごとのカウント\n",
    "    df_sum = sr_sum.to_frame().reset_index()\n",
    "    df_sum.columns = ['市町村名', '感染者数合計']\n",
    "    yamagata_sum = df_sum['感染者数合計'].sum()  # 全体の合計 == 山形県の合計\n",
    "    df_tsuruoka = df_sum.loc[df_sum['市町村名'] == '鶴岡市']  # 鶴岡市のみを抜き出す\n",
    "    df_shonai = df_sum.loc[df_sum['市町村名'].isin(shonai)]  # 庄内地方のみを抜き出す\n",
    "    tsuruoka_sum = df_tsuruoka['感染者数合計'].iloc[0] if len(df_tsuruoka) else 0\n",
    "    shonai_sum = df_shonai['感染者数合計'].sum() if len(df_shonai) else 0\n",
    "\n",
    "    ts_yamagata.append({'日付': tagt_date, '感染者数合計': yamagata_sum})\n",
    "    ts_tsuruoka.append({'日付': tagt_date, '感染者数合計': tsuruoka_sum})\n",
    "    ts_shonai.append({'日付': tagt_date, '感染者数合計': shonai_sum})\n",
    "        \n",
    "df_ts_yamagata = pd.DataFrame(ts_yamagata)\n",
    "df_ts_tsuruoka = pd.DataFrame(ts_tsuruoka)\n",
    "df_ts_shonai = pd.DataFrame(ts_shonai)\n",
    "\n",
    "yamagata_sum = df_ts_yamagata['感染者数合計'].sum()\n",
    "tsuruoka_sum = df_ts_tsuruoka['感染者数合計'].sum()\n",
    "shonai_sum = df_ts_shonai['感染者数合計'].sum()"
   ]
  },
  {
   "cell_type": "code",
   "execution_count": 7,
   "metadata": {},
   "outputs": [
    {
     "name": "stdout",
     "output_type": "stream",
     "text": [
      "山形県全体\n"
     ]
    },
    {
     "data": {
      "text/html": [
       "<table border=\"1\" class=\"dataframe\">\n",
       "  <thead>\n",
       "    <tr style=\"text-align: right;\">\n",
       "      <th></th>\n",
       "      <th>日付</th>\n",
       "      <th>感染者数合計</th>\n",
       "    </tr>\n",
       "  </thead>\n",
       "  <tbody>\n",
       "    <tr>\n",
       "      <th>0</th>\n",
       "      <td>2022-01-02</td>\n",
       "      <td>0</td>\n",
       "    </tr>\n",
       "    <tr>\n",
       "      <th>1</th>\n",
       "      <td>2022-01-09</td>\n",
       "      <td>34</td>\n",
       "    </tr>\n",
       "    <tr>\n",
       "      <th>2</th>\n",
       "      <td>2022-01-16</td>\n",
       "      <td>201</td>\n",
       "    </tr>\n",
       "    <tr>\n",
       "      <th>3</th>\n",
       "      <td>2022-01-23</td>\n",
       "      <td>412</td>\n",
       "    </tr>\n",
       "    <tr>\n",
       "      <th>4</th>\n",
       "      <td>2022-01-30</td>\n",
       "      <td>1239</td>\n",
       "    </tr>\n",
       "    <tr>\n",
       "      <th>5</th>\n",
       "      <td>2022-02-06</td>\n",
       "      <td>1844</td>\n",
       "    </tr>\n",
       "    <tr>\n",
       "      <th>6</th>\n",
       "      <td>2022-02-13</td>\n",
       "      <td>1397</td>\n",
       "    </tr>\n",
       "    <tr>\n",
       "      <th>7</th>\n",
       "      <td>2022-02-20</td>\n",
       "      <td>1447</td>\n",
       "    </tr>\n",
       "    <tr>\n",
       "      <th>8</th>\n",
       "      <td>2022-02-27</td>\n",
       "      <td>1291</td>\n",
       "    </tr>\n",
       "    <tr>\n",
       "      <th>9</th>\n",
       "      <td>2022-03-06</td>\n",
       "      <td>1321</td>\n",
       "    </tr>\n",
       "    <tr>\n",
       "      <th>10</th>\n",
       "      <td>2022-03-13</td>\n",
       "      <td>1685</td>\n",
       "    </tr>\n",
       "    <tr>\n",
       "      <th>11</th>\n",
       "      <td>2022-03-20</td>\n",
       "      <td>1326</td>\n",
       "    </tr>\n",
       "    <tr>\n",
       "      <th>12</th>\n",
       "      <td>2022-03-27</td>\n",
       "      <td>973</td>\n",
       "    </tr>\n",
       "    <tr>\n",
       "      <th>13</th>\n",
       "      <td>2022-04-03</td>\n",
       "      <td>1189</td>\n",
       "    </tr>\n",
       "  </tbody>\n",
       "</table>"
      ],
      "text/plain": [
       "<IPython.core.display.HTML object>"
      ]
     },
     "metadata": {},
     "output_type": "display_data"
    },
    {
     "name": "stdout",
     "output_type": "stream",
     "text": [
      "計： 14359 人口割合 1.37 %\n",
      "庄内地方\n"
     ]
    },
    {
     "data": {
      "text/html": [
       "<table border=\"1\" class=\"dataframe\">\n",
       "  <thead>\n",
       "    <tr style=\"text-align: right;\">\n",
       "      <th></th>\n",
       "      <th>日付</th>\n",
       "      <th>感染者数合計</th>\n",
       "    </tr>\n",
       "  </thead>\n",
       "  <tbody>\n",
       "    <tr>\n",
       "      <th>0</th>\n",
       "      <td>2022-01-02</td>\n",
       "      <td>0</td>\n",
       "    </tr>\n",
       "    <tr>\n",
       "      <th>1</th>\n",
       "      <td>2022-01-09</td>\n",
       "      <td>5</td>\n",
       "    </tr>\n",
       "    <tr>\n",
       "      <th>2</th>\n",
       "      <td>2022-01-16</td>\n",
       "      <td>46</td>\n",
       "    </tr>\n",
       "    <tr>\n",
       "      <th>3</th>\n",
       "      <td>2022-01-23</td>\n",
       "      <td>225</td>\n",
       "    </tr>\n",
       "    <tr>\n",
       "      <th>4</th>\n",
       "      <td>2022-01-30</td>\n",
       "      <td>702</td>\n",
       "    </tr>\n",
       "    <tr>\n",
       "      <th>5</th>\n",
       "      <td>2022-02-06</td>\n",
       "      <td>886</td>\n",
       "    </tr>\n",
       "    <tr>\n",
       "      <th>6</th>\n",
       "      <td>2022-02-13</td>\n",
       "      <td>606</td>\n",
       "    </tr>\n",
       "    <tr>\n",
       "      <th>7</th>\n",
       "      <td>2022-02-20</td>\n",
       "      <td>429</td>\n",
       "    </tr>\n",
       "    <tr>\n",
       "      <th>8</th>\n",
       "      <td>2022-02-27</td>\n",
       "      <td>282</td>\n",
       "    </tr>\n",
       "    <tr>\n",
       "      <th>9</th>\n",
       "      <td>2022-03-06</td>\n",
       "      <td>300</td>\n",
       "    </tr>\n",
       "    <tr>\n",
       "      <th>10</th>\n",
       "      <td>2022-03-13</td>\n",
       "      <td>405</td>\n",
       "    </tr>\n",
       "    <tr>\n",
       "      <th>11</th>\n",
       "      <td>2022-03-20</td>\n",
       "      <td>418</td>\n",
       "    </tr>\n",
       "    <tr>\n",
       "      <th>12</th>\n",
       "      <td>2022-03-27</td>\n",
       "      <td>303</td>\n",
       "    </tr>\n",
       "    <tr>\n",
       "      <th>13</th>\n",
       "      <td>2022-04-03</td>\n",
       "      <td>299</td>\n",
       "    </tr>\n",
       "  </tbody>\n",
       "</table>"
      ],
      "text/plain": [
       "<IPython.core.display.HTML object>"
      ]
     },
     "metadata": {},
     "output_type": "display_data"
    },
    {
     "name": "stdout",
     "output_type": "stream",
     "text": [
      "計： 4906 人口割合 1.9 %\n",
      "鶴岡市のみ\n"
     ]
    },
    {
     "data": {
      "text/html": [
       "<table border=\"1\" class=\"dataframe\">\n",
       "  <thead>\n",
       "    <tr style=\"text-align: right;\">\n",
       "      <th></th>\n",
       "      <th>日付</th>\n",
       "      <th>感染者数合計</th>\n",
       "    </tr>\n",
       "  </thead>\n",
       "  <tbody>\n",
       "    <tr>\n",
       "      <th>0</th>\n",
       "      <td>2022-01-02</td>\n",
       "      <td>0</td>\n",
       "    </tr>\n",
       "    <tr>\n",
       "      <th>1</th>\n",
       "      <td>2022-01-09</td>\n",
       "      <td>1</td>\n",
       "    </tr>\n",
       "    <tr>\n",
       "      <th>2</th>\n",
       "      <td>2022-01-16</td>\n",
       "      <td>6</td>\n",
       "    </tr>\n",
       "    <tr>\n",
       "      <th>3</th>\n",
       "      <td>2022-01-23</td>\n",
       "      <td>61</td>\n",
       "    </tr>\n",
       "    <tr>\n",
       "      <th>4</th>\n",
       "      <td>2022-01-30</td>\n",
       "      <td>400</td>\n",
       "    </tr>\n",
       "    <tr>\n",
       "      <th>5</th>\n",
       "      <td>2022-02-06</td>\n",
       "      <td>443</td>\n",
       "    </tr>\n",
       "    <tr>\n",
       "      <th>6</th>\n",
       "      <td>2022-02-13</td>\n",
       "      <td>248</td>\n",
       "    </tr>\n",
       "    <tr>\n",
       "      <th>7</th>\n",
       "      <td>2022-02-20</td>\n",
       "      <td>163</td>\n",
       "    </tr>\n",
       "    <tr>\n",
       "      <th>8</th>\n",
       "      <td>2022-02-27</td>\n",
       "      <td>138</td>\n",
       "    </tr>\n",
       "    <tr>\n",
       "      <th>9</th>\n",
       "      <td>2022-03-06</td>\n",
       "      <td>190</td>\n",
       "    </tr>\n",
       "    <tr>\n",
       "      <th>10</th>\n",
       "      <td>2022-03-13</td>\n",
       "      <td>276</td>\n",
       "    </tr>\n",
       "    <tr>\n",
       "      <th>11</th>\n",
       "      <td>2022-03-20</td>\n",
       "      <td>270</td>\n",
       "    </tr>\n",
       "    <tr>\n",
       "      <th>12</th>\n",
       "      <td>2022-03-27</td>\n",
       "      <td>132</td>\n",
       "    </tr>\n",
       "    <tr>\n",
       "      <th>13</th>\n",
       "      <td>2022-04-03</td>\n",
       "      <td>157</td>\n",
       "    </tr>\n",
       "  </tbody>\n",
       "</table>"
      ],
      "text/plain": [
       "<IPython.core.display.HTML object>"
      ]
     },
     "metadata": {},
     "output_type": "display_data"
    },
    {
     "name": "stdout",
     "output_type": "stream",
     "text": [
      "計： 2485 人口割合 2.07 %\n"
     ]
    }
   ],
   "source": [
    "from IPython.display import display, HTML\n",
    "# display(df_recent_shonai_pivot)\n",
    "print('山形県全体')\n",
    "display(HTML(df_ts_yamagata.to_html()))\n",
    "print('計：', yamagata_sum, '人口割合', round(yamagata_sum / yamagata_population * 100, 2), '%')\n",
    "print('庄内地方')\n",
    "display(HTML(df_ts_shonai.to_html()))\n",
    "print('計：', shonai_sum, '人口割合', round(shonai_sum / shonai_population * 100, 2), '%')\n",
    "print('鶴岡市のみ')\n",
    "display(HTML(df_ts_tsuruoka.to_html()))\n",
    "print('計：', tsuruoka_sum, '人口割合', round(tsuruoka_sum / tsuruoka_population * 100, 2), '%')\n"
   ]
  },
  {
   "cell_type": "code",
   "execution_count": 8,
   "metadata": {},
   "outputs": [
    {
     "data": {
      "image/png": "[encoded data removed]",
      "text/plain": [
       "<Figure size 1440x648 with 1 Axes>"
      ]
     },
     "metadata": {
      "needs_background": "light"
     },
     "output_type": "display_data"
    }
   ],
   "source": [
    "# -- バーチャート 山形県全体\n",
    "plt.rcParams[\"font.family\"] = \"TakaoGothic\"\n",
    "plt.rcParams[\"figure.figsize\"] = (20, 9)\n",
    "plt.rcParams[\"font.size\"] = 14\n",
    "fig, ax = plt.subplots()\n",
    "plt.tight_layout()\n",
    "plt.bar(df_ts_yamagata['日付'],df_ts_yamagata['感染者数合計'], width=0.5)\n",
    "plt.grid(True)\n",
    "\n",
    "ax.set(\n",
    "    title = f'[山形県] 1週間単位の感染者報告数合計',\n",
    "    ylabel = \"感染者数合計\",\n",
    "    xlabel = \"日付\"\n",
    ")\n",
    "\n",
    "for x,y in zip(df_ts_yamagata['日付'],df_ts_yamagata['感染者数合計']):\n",
    "    label = \"{:.0f}\".format(y)\n",
    "    plt.annotate(label, # this is the text\n",
    "                 (x,y), # this is the point to label\n",
    "                 textcoords=\"offset points\", # how to position the text\n",
    "                 xytext=(0,10), # distance from text to points (x,y)\n",
    "                 ha='center') # horizontal alignment can be left, right or center\n",
    "\n",
    "plt.savefig('bar_yamagata_patients_by_week.png', dpi=200, facecolor='white', bbox_inches='tight', pad_inches=0.2)\n",
    "plt.show()"
   ]
  },
  {
   "cell_type": "code",
   "execution_count": 9,
   "metadata": {},
   "outputs": [
    {
     "data": {
      "image/png": "[encoded data removed]",
      "text/plain": [
       "<Figure size 1440x648 with 1 Axes>"
      ]
     },
     "metadata": {
      "needs_background": "light"
     },
     "output_type": "display_data"
    }
   ],
   "source": [
    "# -- バーチャート 庄内地方\n",
    "plt.rcParams[\"font.family\"] = \"TakaoGothic\"\n",
    "plt.rcParams[\"figure.figsize\"] = (20, 9)\n",
    "plt.rcParams[\"font.size\"] = 14\n",
    "fig, ax = plt.subplots()\n",
    "plt.tight_layout()\n",
    "plt.bar(df_ts_shonai['日付'],df_ts_shonai['感染者数合計'], width=0.5)\n",
    "plt.grid(True)\n",
    "\n",
    "ax.set(\n",
    "    title = f'[庄内地方] 1週間単位の感染者報告数合計',\n",
    "    ylabel = \"感染者数合計\",\n",
    "    xlabel = \"日付\"\n",
    ")\n",
    "\n",
    "for x,y in zip(df_ts_shonai['日付'],df_ts_shonai['感染者数合計']):\n",
    "    label = \"{:.0f}\".format(y)\n",
    "    plt.annotate(label, # this is the text\n",
    "                 (x,y), # this is the point to label\n",
    "                 textcoords=\"offset points\", # how to position the text\n",
    "                 xytext=(0,10), # distance from text to points (x,y)\n",
    "                 ha='center') # horizontal alignment can be left, right or center\n",
    "\n",
    "plt.savefig('bar_shonai_patients_by_week.png', dpi=200, facecolor='white', bbox_inches='tight', pad_inches=0.2)"
   ]
  },
  {
   "cell_type": "code",
   "execution_count": 10,
   "metadata": {},
   "outputs": [
    {
     "data": {
      "image/png": "[encoded data removed]",
      "text/plain": [
       "<Figure size 1440x648 with 1 Axes>"
      ]
     },
     "metadata": {
      "needs_background": "light"
     },
     "output_type": "display_data"
    }
   ],
   "source": [
    "# -- バーチャート 鶴岡市\n",
    "plt.rcParams[\"font.family\"] = \"TakaoGothic\"\n",
    "plt.rcParams[\"figure.figsize\"] = (20, 9)\n",
    "plt.rcParams[\"font.size\"] = 14\n",
    "fig, ax = plt.subplots()\n",
    "plt.tight_layout()\n",
    "plt.bar(df_ts_tsuruoka['日付'],df_ts_tsuruoka['感染者数合計'], width=0.5)\n",
    "plt.grid(True)\n",
    "\n",
    "ax.set(\n",
    "    title = f'[鶴岡市] 1週間単位の感染者報告数合計',\n",
    "    ylabel = \"感染者数\",\n",
    "    xlabel = \"日付\"\n",
    ")\n",
    "\n",
    "for x,y in zip(df_ts_tsuruoka['日付'],df_ts_tsuruoka['感染者数合計']):\n",
    "    label = \"{:.0f}\".format(y)\n",
    "    plt.annotate(label, # this is the text\n",
    "                 (x,y), # this is the point to label\n",
    "                 textcoords=\"offset points\", # how to position the text\n",
    "                 xytext=(0,10), # distance from text to points (x,y)\n",
    "                 ha='center') # horizontal alignment can be left, right or center\n",
    "\n",
    "plt.savefig('bar_tsuruoka_patients_by_week.png', dpi=200, facecolor='white', bbox_inches='tight', pad_inches=0.2)\n",
    "plt.show()"
   ]
  }
 ],
 "metadata": {
  "interpreter": {
   "hash": "830fb29391cd3116f3fab63b29d237f5da5a78b8cae2afa0f65709a41fbca217"
  },
  "kernelspec": {
   "display_name": "Python 3 (ipykernel)",
   "language": "python",
   "name": "python3"
  },
  "language_info": {
   "codemirror_mode": {
    "name": "ipython",
    "version": 3
   },
   "file_extension": ".py",
   "mimetype": "text/x-python",
   "name": "python",
   "nbconvert_exporter": "python",
   "pygments_lexer": "ipython3",
   "version": "3.9.9"
  },
  "toc": {
   "base_numbering": 1,
   "nav_menu": {},
   "number_sections": true,
   "sideBar": true,
   "skip_h1_title": false,
   "title_cell": "Table of Contents",
   "title_sidebar": "Contents",
   "toc_cell": false,
   "toc_position": {},
   "toc_section_display": true,
   "toc_window_display": false
  }
 },
 "nbformat": 4,
 "nbformat_minor": 4
}
